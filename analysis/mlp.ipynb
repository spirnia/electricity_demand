{
 "cells": [
  {
   "cell_type": "code",
   "execution_count": 1,
   "metadata": {},
   "outputs": [],
   "source": [
    "import warnings\n",
    "warnings.filterwarnings(\"ignore\") "
   ]
  },
  {
   "cell_type": "code",
   "execution_count": 2,
   "metadata": {},
   "outputs": [],
   "source": [
    "import pandas as pd\n",
    "import numpy as np \n",
    "import matplotlib.pyplot as plt\n",
    "from datetime import timedelta,datetime\n",
    "df=pd.read_csv('C:\\\\workplace\\\\electricity_demand\\\\dataset\\\\AEP_hourly.csv')\n",
    "df.columns=['date_time','aep_mw']\n",
    "df['date_time']=pd.to_datetime(df['date_time'])\n",
    "df.sort_values('date_time',ascending=True,inplace=True)\n",
    "df['date_time']=df['date_time'].astype(str)"
   ]
  },
  {
   "cell_type": "code",
   "execution_count": 3,
   "metadata": {},
   "outputs": [
    {
     "data": {
      "text/html": [
       "<div>\n",
       "<style scoped>\n",
       "    .dataframe tbody tr th:only-of-type {\n",
       "        vertical-align: middle;\n",
       "    }\n",
       "\n",
       "    .dataframe tbody tr th {\n",
       "        vertical-align: top;\n",
       "    }\n",
       "\n",
       "    .dataframe thead th {\n",
       "        text-align: right;\n",
       "    }\n",
       "</style>\n",
       "<table border=\"1\" class=\"dataframe\">\n",
       "  <thead>\n",
       "    <tr style=\"text-align: right;\">\n",
       "      <th></th>\n",
       "      <th>date_time</th>\n",
       "      <th>aep_mw</th>\n",
       "    </tr>\n",
       "  </thead>\n",
       "  <tbody>\n",
       "    <tr>\n",
       "      <th>2183</th>\n",
       "      <td>2004-10-01 01:00:00</td>\n",
       "      <td>12379.0</td>\n",
       "    </tr>\n",
       "    <tr>\n",
       "      <th>2184</th>\n",
       "      <td>2004-10-01 02:00:00</td>\n",
       "      <td>11935.0</td>\n",
       "    </tr>\n",
       "    <tr>\n",
       "      <th>2185</th>\n",
       "      <td>2004-10-01 03:00:00</td>\n",
       "      <td>11692.0</td>\n",
       "    </tr>\n",
       "    <tr>\n",
       "      <th>2186</th>\n",
       "      <td>2004-10-01 04:00:00</td>\n",
       "      <td>11597.0</td>\n",
       "    </tr>\n",
       "    <tr>\n",
       "      <th>2187</th>\n",
       "      <td>2004-10-01 05:00:00</td>\n",
       "      <td>11681.0</td>\n",
       "    </tr>\n",
       "  </tbody>\n",
       "</table>\n",
       "</div>"
      ],
      "text/plain": [
       "                date_time   aep_mw\n",
       "2183  2004-10-01 01:00:00  12379.0\n",
       "2184  2004-10-01 02:00:00  11935.0\n",
       "2185  2004-10-01 03:00:00  11692.0\n",
       "2186  2004-10-01 04:00:00  11597.0\n",
       "2187  2004-10-01 05:00:00  11681.0"
      ]
     },
     "execution_count": 3,
     "metadata": {},
     "output_type": "execute_result"
    }
   ],
   "source": [
    "df.head()"
   ]
  },
  {
   "cell_type": "code",
   "execution_count": 4,
   "metadata": {},
   "outputs": [],
   "source": [
    "def preparion_train (df,num_lags,lag_feature):\n",
    "\n",
    "    df_lags=pd.DataFrame(index=df.index,columns=['lags_{}'.format(i) for i in range(num_lags)])\n",
    "    df_day=pd.DataFrame(index=df.index,columns=['sin_day','cos_day'])\n",
    "    df_day['sin_day']=np.sin(2*np.pi*pd.to_datetime(df['date_time']).dt.weekday/30.5)\n",
    "    df_day['cos_day']=np.cos(2*np.pi*pd.to_datetime(df['date_time']).dt.weekday/30.5)\n",
    "    df_day['sin_month']=np.sin(2*np.pi*pd.to_datetime(df['date_time']).dt.month/12)\n",
    "    df_day['cos_month']=np.cos(2*np.pi*pd.to_datetime(df['date_time']).dt.month/12)\n",
    "    df_day['sin_hour']=np.sin(2*np.pi*pd.to_datetime(df['date_time']).dt.hour/24)\n",
    "    df_day['cos_hour']=np.cos(2*np.pi*pd.to_datetime(df['date_time']).dt.hour/24)\n",
    "\n",
    "    df_target=pd.DataFrame(index=df.index,columns=['target'])\n",
    "    df_target['target']=df[lag_feature].shift(-1)\n",
    "    for i in range(num_lags):\n",
    "        df_lags['lags_{}'.format(i)]=df[lag_feature].shift(i)\n",
    "    \n",
    "    df_processed=pd.concat([df_target,df_day,df_lags],axis=1)\n",
    "    df_processed.index=df['date_time']\n",
    "\n",
    "    return df_processed.dropna()"
   ]
  },
  {
   "cell_type": "code",
   "execution_count": 5,
   "metadata": {},
   "outputs": [],
   "source": [
    "train_df=df[df['date_time']<='2017-08-02 23:00:00']"
   ]
  },
  {
   "cell_type": "code",
   "execution_count": 6,
   "metadata": {},
   "outputs": [],
   "source": [
    "train_process=preparion_train(train_df,168*4,'aep_mw')"
   ]
  },
  {
   "cell_type": "code",
   "execution_count": 7,
   "metadata": {},
   "outputs": [],
   "source": [
    "X_train=train_process.drop('target',axis=1)\n",
    "y_train=train_process['target']"
   ]
  },
  {
   "cell_type": "code",
   "execution_count": 8,
   "metadata": {},
   "outputs": [
    {
     "data": {
      "text/html": [
       "<div>\n",
       "<style scoped>\n",
       "    .dataframe tbody tr th:only-of-type {\n",
       "        vertical-align: middle;\n",
       "    }\n",
       "\n",
       "    .dataframe tbody tr th {\n",
       "        vertical-align: top;\n",
       "    }\n",
       "\n",
       "    .dataframe thead th {\n",
       "        text-align: right;\n",
       "    }\n",
       "</style>\n",
       "<table border=\"1\" class=\"dataframe\">\n",
       "  <thead>\n",
       "    <tr style=\"text-align: right;\">\n",
       "      <th></th>\n",
       "      <th>sin_day</th>\n",
       "      <th>cos_day</th>\n",
       "      <th>sin_month</th>\n",
       "      <th>cos_month</th>\n",
       "      <th>sin_hour</th>\n",
       "      <th>cos_hour</th>\n",
       "      <th>lags_0</th>\n",
       "      <th>lags_1</th>\n",
       "      <th>lags_2</th>\n",
       "      <th>lags_3</th>\n",
       "      <th>...</th>\n",
       "      <th>lags_662</th>\n",
       "      <th>lags_663</th>\n",
       "      <th>lags_664</th>\n",
       "      <th>lags_665</th>\n",
       "      <th>lags_666</th>\n",
       "      <th>lags_667</th>\n",
       "      <th>lags_668</th>\n",
       "      <th>lags_669</th>\n",
       "      <th>lags_670</th>\n",
       "      <th>lags_671</th>\n",
       "    </tr>\n",
       "    <tr>\n",
       "      <th>date_time</th>\n",
       "      <th></th>\n",
       "      <th></th>\n",
       "      <th></th>\n",
       "      <th></th>\n",
       "      <th></th>\n",
       "      <th></th>\n",
       "      <th></th>\n",
       "      <th></th>\n",
       "      <th></th>\n",
       "      <th></th>\n",
       "      <th></th>\n",
       "      <th></th>\n",
       "      <th></th>\n",
       "      <th></th>\n",
       "      <th></th>\n",
       "      <th></th>\n",
       "      <th></th>\n",
       "      <th></th>\n",
       "      <th></th>\n",
       "      <th></th>\n",
       "      <th></th>\n",
       "    </tr>\n",
       "  </thead>\n",
       "  <tbody>\n",
       "    <tr>\n",
       "      <th>2004-10-29 00:00:00</th>\n",
       "      <td>0.733885</td>\n",
       "      <td>0.679273</td>\n",
       "      <td>-0.866025</td>\n",
       "      <td>0.5</td>\n",
       "      <td>0.000000</td>\n",
       "      <td>1.000000</td>\n",
       "      <td>13355.0</td>\n",
       "      <td>14353.0</td>\n",
       "      <td>15309.0</td>\n",
       "      <td>15581.0</td>\n",
       "      <td>...</td>\n",
       "      <td>15118.0</td>\n",
       "      <td>14903.0</td>\n",
       "      <td>14618.0</td>\n",
       "      <td>13692.0</td>\n",
       "      <td>12280.0</td>\n",
       "      <td>11681.0</td>\n",
       "      <td>11597.0</td>\n",
       "      <td>11692.0</td>\n",
       "      <td>11935.0</td>\n",
       "      <td>12379.0</td>\n",
       "    </tr>\n",
       "    <tr>\n",
       "      <th>2004-10-29 01:00:00</th>\n",
       "      <td>0.733885</td>\n",
       "      <td>0.679273</td>\n",
       "      <td>-0.866025</td>\n",
       "      <td>0.5</td>\n",
       "      <td>0.258819</td>\n",
       "      <td>0.965926</td>\n",
       "      <td>12510.0</td>\n",
       "      <td>13355.0</td>\n",
       "      <td>14353.0</td>\n",
       "      <td>15309.0</td>\n",
       "      <td>...</td>\n",
       "      <td>15242.0</td>\n",
       "      <td>15118.0</td>\n",
       "      <td>14903.0</td>\n",
       "      <td>14618.0</td>\n",
       "      <td>13692.0</td>\n",
       "      <td>12280.0</td>\n",
       "      <td>11681.0</td>\n",
       "      <td>11597.0</td>\n",
       "      <td>11692.0</td>\n",
       "      <td>11935.0</td>\n",
       "    </tr>\n",
       "    <tr>\n",
       "      <th>2004-10-29 02:00:00</th>\n",
       "      <td>0.733885</td>\n",
       "      <td>0.679273</td>\n",
       "      <td>-0.866025</td>\n",
       "      <td>0.5</td>\n",
       "      <td>0.500000</td>\n",
       "      <td>0.866025</td>\n",
       "      <td>12022.0</td>\n",
       "      <td>12510.0</td>\n",
       "      <td>13355.0</td>\n",
       "      <td>14353.0</td>\n",
       "      <td>...</td>\n",
       "      <td>15375.0</td>\n",
       "      <td>15242.0</td>\n",
       "      <td>15118.0</td>\n",
       "      <td>14903.0</td>\n",
       "      <td>14618.0</td>\n",
       "      <td>13692.0</td>\n",
       "      <td>12280.0</td>\n",
       "      <td>11681.0</td>\n",
       "      <td>11597.0</td>\n",
       "      <td>11692.0</td>\n",
       "    </tr>\n",
       "    <tr>\n",
       "      <th>2004-10-29 03:00:00</th>\n",
       "      <td>0.733885</td>\n",
       "      <td>0.679273</td>\n",
       "      <td>-0.866025</td>\n",
       "      <td>0.5</td>\n",
       "      <td>0.707107</td>\n",
       "      <td>0.707107</td>\n",
       "      <td>11753.0</td>\n",
       "      <td>12022.0</td>\n",
       "      <td>12510.0</td>\n",
       "      <td>13355.0</td>\n",
       "      <td>...</td>\n",
       "      <td>15404.0</td>\n",
       "      <td>15375.0</td>\n",
       "      <td>15242.0</td>\n",
       "      <td>15118.0</td>\n",
       "      <td>14903.0</td>\n",
       "      <td>14618.0</td>\n",
       "      <td>13692.0</td>\n",
       "      <td>12280.0</td>\n",
       "      <td>11681.0</td>\n",
       "      <td>11597.0</td>\n",
       "    </tr>\n",
       "    <tr>\n",
       "      <th>2004-10-29 04:00:00</th>\n",
       "      <td>0.733885</td>\n",
       "      <td>0.679273</td>\n",
       "      <td>-0.866025</td>\n",
       "      <td>0.5</td>\n",
       "      <td>0.866025</td>\n",
       "      <td>0.500000</td>\n",
       "      <td>11530.0</td>\n",
       "      <td>11753.0</td>\n",
       "      <td>12022.0</td>\n",
       "      <td>12510.0</td>\n",
       "      <td>...</td>\n",
       "      <td>15655.0</td>\n",
       "      <td>15404.0</td>\n",
       "      <td>15375.0</td>\n",
       "      <td>15242.0</td>\n",
       "      <td>15118.0</td>\n",
       "      <td>14903.0</td>\n",
       "      <td>14618.0</td>\n",
       "      <td>13692.0</td>\n",
       "      <td>12280.0</td>\n",
       "      <td>11681.0</td>\n",
       "    </tr>\n",
       "  </tbody>\n",
       "</table>\n",
       "<p>5 rows × 678 columns</p>\n",
       "</div>"
      ],
      "text/plain": [
       "                      sin_day   cos_day  sin_month  cos_month  sin_hour  \\\n",
       "date_time                                                                 \n",
       "2004-10-29 00:00:00  0.733885  0.679273  -0.866025        0.5  0.000000   \n",
       "2004-10-29 01:00:00  0.733885  0.679273  -0.866025        0.5  0.258819   \n",
       "2004-10-29 02:00:00  0.733885  0.679273  -0.866025        0.5  0.500000   \n",
       "2004-10-29 03:00:00  0.733885  0.679273  -0.866025        0.5  0.707107   \n",
       "2004-10-29 04:00:00  0.733885  0.679273  -0.866025        0.5  0.866025   \n",
       "\n",
       "                     cos_hour   lags_0   lags_1   lags_2   lags_3  ...  \\\n",
       "date_time                                                          ...   \n",
       "2004-10-29 00:00:00  1.000000  13355.0  14353.0  15309.0  15581.0  ...   \n",
       "2004-10-29 01:00:00  0.965926  12510.0  13355.0  14353.0  15309.0  ...   \n",
       "2004-10-29 02:00:00  0.866025  12022.0  12510.0  13355.0  14353.0  ...   \n",
       "2004-10-29 03:00:00  0.707107  11753.0  12022.0  12510.0  13355.0  ...   \n",
       "2004-10-29 04:00:00  0.500000  11530.0  11753.0  12022.0  12510.0  ...   \n",
       "\n",
       "                     lags_662  lags_663  lags_664  lags_665  lags_666  \\\n",
       "date_time                                                               \n",
       "2004-10-29 00:00:00   15118.0   14903.0   14618.0   13692.0   12280.0   \n",
       "2004-10-29 01:00:00   15242.0   15118.0   14903.0   14618.0   13692.0   \n",
       "2004-10-29 02:00:00   15375.0   15242.0   15118.0   14903.0   14618.0   \n",
       "2004-10-29 03:00:00   15404.0   15375.0   15242.0   15118.0   14903.0   \n",
       "2004-10-29 04:00:00   15655.0   15404.0   15375.0   15242.0   15118.0   \n",
       "\n",
       "                     lags_667  lags_668  lags_669  lags_670  lags_671  \n",
       "date_time                                                              \n",
       "2004-10-29 00:00:00   11681.0   11597.0   11692.0   11935.0   12379.0  \n",
       "2004-10-29 01:00:00   12280.0   11681.0   11597.0   11692.0   11935.0  \n",
       "2004-10-29 02:00:00   13692.0   12280.0   11681.0   11597.0   11692.0  \n",
       "2004-10-29 03:00:00   14618.0   13692.0   12280.0   11681.0   11597.0  \n",
       "2004-10-29 04:00:00   14903.0   14618.0   13692.0   12280.0   11681.0  \n",
       "\n",
       "[5 rows x 678 columns]"
      ]
     },
     "execution_count": 8,
     "metadata": {},
     "output_type": "execute_result"
    }
   ],
   "source": [
    "X_train.head()"
   ]
  },
  {
   "cell_type": "code",
   "execution_count": 9,
   "metadata": {},
   "outputs": [
    {
     "data": {
      "text/plain": [
       "date_time\n",
       "2004-10-29 00:00:00    12510.0\n",
       "2004-10-29 01:00:00    12022.0\n",
       "2004-10-29 02:00:00    11753.0\n",
       "2004-10-29 03:00:00    11530.0\n",
       "2004-10-29 04:00:00    11744.0\n",
       "                        ...   \n",
       "2017-08-02 18:00:00    19151.0\n",
       "2017-08-02 19:00:00    18495.0\n",
       "2017-08-02 20:00:00    17771.0\n",
       "2017-08-02 21:00:00    17220.0\n",
       "2017-08-02 22:00:00    16100.0\n",
       "Name: target, Length: 111840, dtype: float64"
      ]
     },
     "execution_count": 9,
     "metadata": {},
     "output_type": "execute_result"
    }
   ],
   "source": [
    "y_train"
   ]
  },
  {
   "cell_type": "code",
   "execution_count": 10,
   "metadata": {},
   "outputs": [],
   "source": [
    "from sklearn.preprocessing import MinMaxScaler\n",
    "scaler=MinMaxScaler().fit(X_train)\n",
    "X_train_num=scaler.transform(X_train)\n",
    "y_train_num=np.array(y_train).reshape(-1)"
   ]
  },
  {
   "cell_type": "markdown",
   "metadata": {},
   "source": [
    "# Training the model"
   ]
  },
  {
   "cell_type": "markdown",
   "metadata": {},
   "source": [
    "## Hyperparameter parameter tuning"
   ]
  },
  {
   "cell_type": "code",
   "execution_count": null,
   "metadata": {},
   "outputs": [],
   "source": [
    "from sklearn.model_selection import train_test_split\n",
    "X_fit,X_val,y_fit,y_val=train_test_split(X_train_num,y_train_num,test_size=0.3,shuffle=True)"
   ]
  },
  {
   "cell_type": "code",
   "execution_count": null,
   "metadata": {},
   "outputs": [],
   "source": [
    "from tensorflow.keras.models import Sequential \n",
    "from tensorflow.keras.layers import LSTM,Dense,Input\n",
    "from tensorflow.keras.losses import MeanAbsoluteError \n",
    "from tensorflow.keras.metrics import MeanAbsolutePercentageError\n",
    "from tensorflow.keras.optimizers import Adam\n",
    "from tensorflow.keras.callbacks import EarlyStopping"
   ]
  },
  {
   "cell_type": "code",
   "execution_count": null,
   "metadata": {},
   "outputs": [],
   "source": [
    "model=Sequential()\n",
    "model.add(Input((X_train.shape[1],)))\n",
    "model.add(Dense(128, activation='relu'))\n",
    "model.add(Dense(1))\n",
    "model.compile(optimizer=Adam(),loss=MeanAbsoluteError(),metrics=[MeanAbsolutePercentageError()])\n",
    "stoppage=EarlyStopping(patience=50)\n",
    "model.fit(X_fit,y_fit,validation_data=(X_val,y_val),epochs=2000,callbacks=[stoppage])"
   ]
  },
  {
   "cell_type": "code",
   "execution_count": null,
   "metadata": {},
   "outputs": [],
   "source": [
    "val_df=pd.DataFrame(model.history.history)"
   ]
  },
  {
   "cell_type": "code",
   "execution_count": null,
   "metadata": {},
   "outputs": [],
   "source": [
    "val_df.columns"
   ]
  },
  {
   "cell_type": "code",
   "execution_count": null,
   "metadata": {},
   "outputs": [],
   "source": [
    "val_df[[ 'mean_absolute_percentage_error','val_mean_absolute_percentage_error']].plot()"
   ]
  },
  {
   "cell_type": "code",
   "execution_count": null,
   "metadata": {},
   "outputs": [],
   "source": [
    "np.argmin(val_df['val_mean_absolute_percentage_error'])"
   ]
  },
  {
   "cell_type": "markdown",
   "metadata": {},
   "source": [
    "## Fitting a final model"
   ]
  },
  {
   "cell_type": "code",
   "execution_count": null,
   "metadata": {},
   "outputs": [],
   "source": [
    "model=Sequential()\n",
    "model.add(Input((X_train.shape[1],)))\n",
    "model.add(Dense(128, activation='relu'))\n",
    "model.add(Dense(1))\n",
    "model.compile(optimizer=Adam(),loss=MeanAbsoluteError())\n",
    "#stoppage=EarlyStopping(patience=50)\n",
    "model.fit(X_train_num,y_train,epochs=964)"
   ]
  },
  {
   "cell_type": "code",
   "execution_count": null,
   "metadata": {},
   "outputs": [],
   "source": [
    "from keras.models import load_model\n",
    "\n",
    "model.save('C:\\\\workplace\\\\electricity_demand\\\\models\\\\mlp.h5')"
   ]
  },
  {
   "cell_type": "markdown",
   "metadata": {},
   "source": [
    "# One step ahead forecast"
   ]
  },
  {
   "cell_type": "code",
   "execution_count": 11,
   "metadata": {},
   "outputs": [],
   "source": [
    "from tensorflow.keras.models import load_model\n",
    "model=load_model('C:\\\\workplace\\\\electricity_demand\\\\models\\\\mlp.h5')"
   ]
  },
  {
   "cell_type": "code",
   "execution_count": null,
   "metadata": {},
   "outputs": [],
   "source": [
    "X_test=preparion_train(df,168*4,'aep_mw')\n",
    "X_test.reset_index(inplace=True)\n",
    "y_test=np.array(X_test.loc[X_test['date_time']>'2017-08-02 23:00:00','target']).reshape(-1)\n",
    "X_test=X_test[X_test['date_time']>'2017-08-02 23:00:00'].drop(['date_time','target'],axis=1)\n",
    "X_test=scaler.transform(X_test)\n",
    "pred=model.predict(X_test)"
   ]
  },
  {
   "cell_type": "code",
   "execution_count": null,
   "metadata": {},
   "outputs": [],
   "source": [
    "from sklearn.metrics import mean_absolute_error,mean_absolute_percentage_error \n",
    "mean_absolute_error(y_test,pred),mean_absolute_percentage_error(y_test,pred)"
   ]
  },
  {
   "cell_type": "code",
   "execution_count": null,
   "metadata": {},
   "outputs": [],
   "source": [
    "index_test=preparion_train(df,168*4,'aep_mw').reset_index()\n",
    "index_test['date_time']=index_test['date_time'].astype(str)\n",
    "index_test=index_test[index_test['date_time']>'2017-08-02 23:00:00']['date_time']"
   ]
  },
  {
   "cell_type": "code",
   "execution_count": null,
   "metadata": {},
   "outputs": [],
   "source": [
    "one_step_df=pd.concat([pd.Series(y_test,index=index_test),pd.Series(pred.reshape(-1),index=index_test)],axis=1)\n",
    "one_step_df.columns=['actual','forecast']\n",
    "one_step_df.plot(figsize=(40,7))"
   ]
  },
  {
   "cell_type": "code",
   "execution_count": null,
   "metadata": {},
   "outputs": [],
   "source": [
    "import plotly.graph_objects as go \n",
    "figure=go.Figure()\n",
    "figure.add_trace(go.Scatter(x=one_step_df.index,y=one_step_df['actual'],name='actual'))\n",
    "figure.add_trace(go.Scatter(x=one_step_df.index,y=one_step_df['forecast'],name='forecast'))"
   ]
  },
  {
   "cell_type": "markdown",
   "metadata": {},
   "source": [
    "# Dayahead forecast"
   ]
  },
  {
   "cell_type": "code",
   "execution_count": null,
   "metadata": {},
   "outputs": [],
   "source": [
    "def dayahead_forecast(df,selected_time):\n",
    "    test_df=df[df['date_time']<=selected_time]\n",
    "    test_df=preparion_train(test_df,168*4,'aep_mw').drop('target',axis=1)\n",
    "    test_df=test_df.tail(1)\n",
    "    test_df.index=[0]\n",
    "    pred_df=pd.DataFrame(index=range(1,48),columns=['date_time','forecast'])\n",
    "    \n",
    "    for i in range(1,48):\n",
    "        forecast_for_time=str(datetime.fromisoformat(selected_time)+timedelta(hours=i))\n",
    "        new_X=scaler.transform(test_df)\n",
    "        pred_df.loc[i,'date_time']=forecast_for_time\n",
    "        pred=model.predict(new_X,verbose=False)[0][0]\n",
    "        pred_df.loc[i,'forecast']=pred\n",
    "\n",
    "        test_dflags=test_df[test_df.columns[list(test_df.columns.str.contains('lags'))]]\n",
    "        test_dflags=test_dflags.shift(1,axis=1)\n",
    "        test_dflags.loc[0,'lags_0']=pred\n",
    "\n",
    "        test_dftimes=test_df[test_df.columns[list(test_df.columns.str.contains('lags')==False)]]\n",
    "        test_dftimes['date_time']=forecast_for_time=str(datetime.fromisoformat(selected_time)+timedelta(hours=i))\n",
    "        test_dftimes['sin_day']=np.sin(2*np.pi*pd.to_datetime(test_dftimes['date_time']).dt.weekday/30.5)\n",
    "        test_dftimes['cos_day']=np.cos(2*np.pi*pd.to_datetime(test_dftimes['date_time']).dt.weekday/30.5)\n",
    "        test_dftimes['sin_month']=np.sin(2*np.pi*pd.to_datetime(test_dftimes['date_time']).dt.month/12)\n",
    "        test_dftimes['cos_month']=np.cos(2*np.pi*pd.to_datetime(test_dftimes['date_time']).dt.month/12)\n",
    "        test_dftimes['sin_hour']=np.sin(2*np.pi*pd.to_datetime(test_dftimes['date_time']).dt.hour/24)\n",
    "        test_dftimes['cos_hour']=np.cos(2*np.pi*pd.to_datetime(test_dftimes['date_time']).dt.hour/24)\n",
    "        test_dftimes.drop('date_time',axis=1,inplace=True)\n",
    "\n",
    "        test_df=pd.concat([test_dftimes,test_dflags],axis=1)\n",
    "        test_df=test_df.tail(1)\n",
    "        test_df.index=[0]\n",
    "    \n",
    "    pred_df=pred_df.merge(df,on='date_time')\n",
    "    pred_df=pred_df[['date_time','aep_mw','forecast']]\n",
    "    pred_df.index=pred_df['date_time']\n",
    "    pred_df.drop('date_time',axis=1,inplace=True)\n",
    "\n",
    "    return pred_df"
   ]
  },
  {
   "cell_type": "code",
   "execution_count": null,
   "metadata": {},
   "outputs": [],
   "source": [
    "triggered_time=df.loc[(pd.to_datetime(df['date_time']).dt.hour==8) & (df['date_time']>'2017-08-02 23:00:00'),'date_time'].astype(str)\n",
    "triggered_time"
   ]
  },
  {
   "cell_type": "code",
   "execution_count": null,
   "metadata": {},
   "outputs": [],
   "source": [
    "df_processed=preparion(df,168*4,'aep_mw').drop('target',axis=1)"
   ]
  },
  {
   "cell_type": "code",
   "execution_count": null,
   "metadata": {},
   "outputs": [],
   "source": [
    "df_processed"
   ]
  },
  {
   "cell_type": "code",
   "execution_count": null,
   "metadata": {},
   "outputs": [],
   "source": [
    "pred_df=pd.DataFrame()\n",
    "for i in triggered_time:\n",
    "    temp=dayahead_forecast(df_processed,i)\n",
    "    pred_df=pd.concat([pred_df,temp])\n",
    "    print(i)\n",
    "\n",
    "df2=df.copy()\n",
    "df2['date_time']=df2['date_time'].astype(str)\n",
    "#pred_df['date_time']=pred_df['date_time'].astype(str)\n",
    "pred_df=pred_df.merge(df2,on='date_time')"
   ]
  },
  {
   "cell_type": "code",
   "execution_count": null,
   "metadata": {},
   "outputs": [],
   "source": [
    "pred_df.plot(figsize=(40,7))"
   ]
  },
  {
   "cell_type": "code",
   "execution_count": null,
   "metadata": {},
   "outputs": [],
   "source": [
    "pred_df['date_time']=pred_df['date_time'].astype(str)\n",
    "pred_df.index=pred_df['date_time']\n",
    "pred_df.drop('date_time',axis=1,inplace=True)"
   ]
  },
  {
   "cell_type": "code",
   "execution_count": null,
   "metadata": {},
   "outputs": [],
   "source": [
    "mean_absolute_percentage_error(pred_df['aep_mw'],pred_df['forecast'])"
   ]
  },
  {
   "cell_type": "code",
   "execution_count": null,
   "metadata": {},
   "outputs": [],
   "source": [
    "figure=go.Figure()\n",
    "figure.add_trace(go.Scatter(x=df['date_time'].astype(str),y=df['aep_mw']))\n",
    "figure.add_trace(go.Scatter(x=pred_df.index,y=pred_df['aep_mw'],name='actual_electricity_load'))\n",
    "figure.add_trace(go.Scatter(x=pred_df.index,y=pred_df['forecast'],name='mlp_forecast'))"
   ]
  },
  {
   "cell_type": "markdown",
   "metadata": {},
   "source": [
    "## Warm up "
   ]
  },
  {
   "cell_type": "code",
   "execution_count": null,
   "metadata": {},
   "outputs": [],
   "source": [
    "def dayahead_forecast(df,selected_time):\n",
    "    test_df=df[df['date_time']<=selected_time]\n",
    "    test_df=preparion_train(test_df,168*4,'aep_mw').drop('target',axis=1)\n",
    "    test_df=test_df.tail(1)\n",
    "    test_df.index=[0]\n",
    "    pred_df=pd.DataFrame(index=range(1,48),columns=['date_time','forecast'])\n",
    "    \n",
    "    for i in range(1,48):\n",
    "        forecast_for_time=str(datetime.fromisoformat(selected_time)+timedelta(hours=i))\n",
    "        new_X=scaler.transform(test_df)\n",
    "        pred_df.loc[i,'date_time']=forecast_for_time\n",
    "        pred=model.predict(new_X,verbose=False)[0][0]\n",
    "        pred_df.loc[i,'forecast']=pred\n",
    "\n",
    "        test_dflags=test_df[test_df.columns[list(test_df.columns.str.contains('lags'))]]\n",
    "        test_dflags=test_dflags.shift(1,axis=1)\n",
    "        test_dflags.loc[0,'lags_0']=pred\n",
    "\n",
    "        test_dftimes=test_df[test_df.columns[list(test_df.columns.str.contains('lags')==False)]]\n",
    "        test_dftimes['date_time']=forecast_for_time=str(datetime.fromisoformat(selected_time)+timedelta(hours=i))\n",
    "        test_dftimes['sin_day']=np.sin(2*np.pi*pd.to_datetime(test_dftimes['date_time']).dt.weekday/30.5)\n",
    "        test_dftimes['cos_day']=np.cos(2*np.pi*pd.to_datetime(test_dftimes['date_time']).dt.weekday/30.5)\n",
    "        test_dftimes['sin_month']=np.sin(2*np.pi*pd.to_datetime(test_dftimes['date_time']).dt.month/12)\n",
    "        test_dftimes['cos_month']=np.cos(2*np.pi*pd.to_datetime(test_dftimes['date_time']).dt.month/12)\n",
    "        test_dftimes['sin_hour']=np.sin(2*np.pi*pd.to_datetime(test_dftimes['date_time']).dt.hour/24)\n",
    "        test_dftimes['cos_hour']=np.cos(2*np.pi*pd.to_datetime(test_dftimes['date_time']).dt.hour/24)\n",
    "        test_dftimes.drop('date_time',axis=1,inplace=True)\n",
    "\n",
    "        test_df=pd.concat([test_dftimes,test_dflags],axis=1)\n",
    "        test_df=test_df.tail(1)\n",
    "        test_df.index=[0]\n",
    "    \n",
    "    pred_df=pred_df.merge(df,on='date_time')\n",
    "    pred_df=pred_df[['date_time','aep_mw','forecast']]\n",
    "    pred_df.index=pred_df['date_time']\n",
    "    pred_df.drop('date_time',axis=1,inplace=True)\n",
    "\n",
    "    return pred_df"
   ]
  },
  {
   "cell_type": "code",
   "execution_count": null,
   "metadata": {},
   "outputs": [],
   "source": [
    "pred_df=dayahead_forecast(df,'2017-09-12 08:00:00')"
   ]
  },
  {
   "cell_type": "code",
   "execution_count": null,
   "metadata": {},
   "outputs": [],
   "source": [
    "pred_df.plot()"
   ]
  },
  {
   "cell_type": "code",
   "execution_count": null,
   "metadata": {},
   "outputs": [],
   "source": [
    "pred_df.iloc[16:40]"
   ]
  },
  {
   "cell_type": "code",
   "execution_count": null,
   "metadata": {},
   "outputs": [],
   "source": []
  }
 ],
 "metadata": {
  "kernelspec": {
   "display_name": "aep_hourly",
   "language": "python",
   "name": "python3"
  },
  "language_info": {
   "codemirror_mode": {
    "name": "ipython",
    "version": 3
   },
   "file_extension": ".py",
   "mimetype": "text/x-python",
   "name": "python",
   "nbconvert_exporter": "python",
   "pygments_lexer": "ipython3",
   "version": "3.10.13"
  }
 },
 "nbformat": 4,
 "nbformat_minor": 2
}
